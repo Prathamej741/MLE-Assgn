{
  "nbformat": 4,
  "nbformat_minor": 0,
  "metadata": {
    "colab": {
      "name": "Iris Classification Problem",
      "provenance": []
    },
    "kernelspec": {
      "name": "python3",
      "display_name": "Python 3"
    },
    "accelerator": "GPU"
  },
  "cells": [
    {
      "cell_type": "markdown",
      "metadata": {
        "id": "wgcXbUwle_nK"
      },
      "source": [
        "> ### RIIAA 2.0 – Workshop\n",
        "> **Deep Learning as a Service** <br>\n",
        "> **Instructor:** [Rodolfo Ferro](https://rodolfoferro.xyz) <br>\n",
        "> **Email:** <ferro@cimat.mx> <br>\n",
        "> **Twitter:** <https://twitter.com/FerroRodolfo/> <br>\n",
        "> **GitHub:** <https://github.com/RodolfoFerro/> <br>"
      ]
    },
    {
      "cell_type": "markdown",
      "metadata": {
        "id": "qqZboFApBN18"
      },
      "source": [
        "# Iris Classification Problem\n",
        "\n",
        "Along this notebook we'll explain how to use the power of cloud computing with Google Colab for a classical example –*The Iris Classification Problem*– using the popular [Iris flower dataset](https://en.wikipedia.org/wiki/Iris_flower_data_set).\n",
        "\n",
        "For this classification problem we will build a simple feed-forward full-connected artificial neural network.\n",
        "\n",
        "The Python framework that we will be using is [Tensorflow 2.0](https://www.tensorflow.org) with the [Keras](https://keras.io/) module.\n",
        "\n",
        "\n",
        "### Problem statement\n",
        "\n",
        "Before we tackle the problem an ANN, let's understand what we'll be doing:\n",
        "\n",
        "* If we feed our neural network with Iris data, the model should be able to determine what species it is.\n",
        "\n",
        "> #### What do we need to do?\n",
        "> Train a _Deep Learning_ model (in this case) using a known dataset: [Iris flower dataset](https://en.wikipedia.org/wiki/Iris_flower_data_set).\n",
        ">\n",
        "> Specifically, we are going to do the following:\n",
        "> - Load the dataset\n",
        "> - Preprocess the data\n",
        "> - Build the model\n",
        "> - Set hyperparameters\n",
        "> - Train the model\n",
        "> - Save and download the trained model\n",
        "> - Predict data\n",
        "\n",
        "## Installing dependencies\n",
        "\n",
        "For our training we will be using Tensorflow 2.0, so we want to be sure it is installed on its latest version:"
      ]
    },
    {
      "cell_type": "code",
      "metadata": {
        "id": "7D74gMYrD0Fo",
        "colab": {
          "base_uri": "https://localhost:8080/"
        },
        "outputId": "a94bb07a-b3a4-4666-9563-2b7b952fca62"
      },
      "source": [
        "# Let's install Tensorflow 2.0:\n",
        "!pip install -q tensorflow==2.0.0-rc0\n",
        "\n",
        "# And verify that it is now in its latest version:\n",
        "import tensorflow as tf\n",
        "print(tf.__version__)"
      ],
      "execution_count": 2,
      "outputs": [
        {
          "output_type": "stream",
          "name": "stdout",
          "text": [
            "\u001b[31mERROR: Could not find a version that satisfies the requirement tensorflow==2.0.0-rc0 (from versions: 2.8.0rc0, 2.8.0rc1, 2.8.0, 2.8.1, 2.8.2, 2.8.3, 2.8.4, 2.9.0rc0, 2.9.0rc1, 2.9.0rc2, 2.9.0, 2.9.1, 2.9.2, 2.9.3, 2.10.0rc0, 2.10.0rc1, 2.10.0rc2, 2.10.0rc3, 2.10.0, 2.10.1, 2.11.0rc0, 2.11.0rc1, 2.11.0rc2, 2.11.0, 2.11.1, 2.12.0rc0, 2.12.0rc1, 2.12.0, 2.12.1, 2.13.0rc0, 2.13.0rc1, 2.13.0rc2, 2.13.0, 2.14.0rc0, 2.14.0rc1)\u001b[0m\u001b[31m\n",
            "\u001b[0m\u001b[31mERROR: No matching distribution found for tensorflow==2.0.0-rc0\u001b[0m\u001b[31m\n",
            "\u001b[0m2.13.0\n"
          ]
        }
      ]
    },
    {
      "cell_type": "markdown",
      "metadata": {
        "id": "3ctjdb9BD0dP"
      },
      "source": [
        "## The Iris dataset"
      ]
    },
    {
      "cell_type": "code",
      "metadata": {
        "id": "-uN3Ro-5BKUq",
        "colab": {
          "base_uri": "https://localhost:8080/",
          "height": 479
        },
        "outputId": "73958803-f1f6-450e-e7e0-2d016b2ff0af"
      },
      "source": [
        "from IPython.display import HTML\n",
        "url = 'https://en.wikipedia.org/wiki/Iris_flower_data_set'\n",
        "iframe = '<iframe src=' + url + ' width=\"100%\" height=400></iframe>'\n",
        "HTML(iframe)"
      ],
      "execution_count": 3,
      "outputs": [
        {
          "output_type": "stream",
          "name": "stderr",
          "text": [
            "/usr/local/lib/python3.10/dist-packages/IPython/core/display.py:724: UserWarning: Consider using IPython.display.IFrame instead\n",
            "  warnings.warn(\"Consider using IPython.display.IFrame instead\")\n"
          ]
        },
        {
          "output_type": "execute_result",
          "data": {
            "text/plain": [
              "<IPython.core.display.HTML object>"
            ],
            "text/html": [
              "<iframe src=https://en.wikipedia.org/wiki/Iris_flower_data_set width=\"100%\" height=400></iframe>"
            ]
          },
          "metadata": {},
          "execution_count": 3
        }
      ]
    },
    {
      "cell_type": "markdown",
      "metadata": {
        "id": "MuiBrwaOCBbt"
      },
      "source": [
        "## Importing the dataset"
      ]
    },
    {
      "cell_type": "code",
      "metadata": {
        "id": "dDoI3H0_B7oF"
      },
      "source": [
        "# Importing dataset from scikit-learn and other useful packages:\n",
        "from sklearn.model_selection import train_test_split\n",
        "from sklearn.datasets import load_iris\n",
        "import matplotlib.pyplot as plt\n",
        "import numpy as np\n",
        "\n",
        "# We will fix a random seed for reproducibility:\n",
        "seed = 11\n",
        "np.random.seed(seed)"
      ],
      "execution_count": 4,
      "outputs": []
    },
    {
      "cell_type": "code",
      "metadata": {
        "id": "LtH71K6vDRff",
        "colab": {
          "base_uri": "https://localhost:8080/"
        },
        "outputId": "f8cf244f-60a9-4b9d-f587-f243a5c145d5"
      },
      "source": [
        "# We now import the Iris dataset:\n",
        "iris = load_iris()\n",
        "\n",
        "# And set the features and labels vectors from it:\n",
        "# Set x as 'data' from iris\n",
        "x = iris.data\n",
        "# Set y as 'target' from iris\n",
        "y = iris.target\n",
        "# Set names as 'target_names' from iris\n",
        "names = iris.target_names\n",
        "# Set feature_names as 'feature_names' from iris\n",
        "feature_names = iris.feature_names\n",
        "\n",
        "# We can load some elements to verify the contents in the dataset:\n",
        "elements_to_display = [0,25,50,100]\n",
        "for element in elements_to_display:\n",
        "    print(f\"Element {element}th:\")\n",
        "    print(f\"  - Features: {x[element]}\")\n",
        "    print(f\"  - Target: {y[element]}\")\n",
        "    print(f\"  - Species: {names[element % 3]}\")\n",
        "    print()"
      ],
      "execution_count": 5,
      "outputs": [
        {
          "output_type": "stream",
          "name": "stdout",
          "text": [
            "Element 0th:\n",
            "  - Features: [5.1 3.5 1.4 0.2]\n",
            "  - Target: 0\n",
            "  - Species: setosa\n",
            "\n",
            "Element 25th:\n",
            "  - Features: [5.  3.  1.6 0.2]\n",
            "  - Target: 0\n",
            "  - Species: versicolor\n",
            "\n",
            "Element 50th:\n",
            "  - Features: [7.  3.2 4.7 1.4]\n",
            "  - Target: 1\n",
            "  - Species: virginica\n",
            "\n",
            "Element 100th:\n",
            "  - Features: [6.3 3.3 6.  2.5]\n",
            "  - Target: 2\n",
            "  - Species: versicolor\n",
            "\n"
          ]
        }
      ]
    },
    {
      "cell_type": "markdown",
      "metadata": {
        "id": "ZMRI1V43HZg9"
      },
      "source": [
        "## Preprocess dataset\n",
        "\n",
        "The preprocess step results very important in many cases. For this case, we will just need to do a very simple transformation: a one hot encode process."
      ]
    },
    {
      "cell_type": "code",
      "metadata": {
        "id": "Z2_d1fQ-HKfI",
        "colab": {
          "base_uri": "https://localhost:8080/"
        },
        "outputId": "aee267c8-98be-4e29-b617-0fd7a0cdf4e0"
      },
      "source": [
        "from tensorflow import keras\n",
        "\n",
        "# One hot encode outputs:\n",
        "y = keras.utils.to_categorical(y)\n",
        "\n",
        "# Set global variables:\n",
        "n_features = len(feature_names)\n",
        "n_classes = names.shape[0]\n",
        "\n",
        "# Let's checkout changes:\n",
        "for element in elements_to_display:\n",
        "    print(f\"Element {element}th:\")\n",
        "    print(f\"  - Features: {x[element]}\")\n",
        "    print(f\"  - Target: {y[element]}\")\n",
        "    print(f\"  - Species: {names[element % 3]}\")\n",
        "    print()\n",
        "\n",
        "\n",
        "# Split the data set into training and testing sets:\n",
        "x_train, x_test, y_train, y_test = train_test_split(x, y,\n",
        "                                                    test_size=0.3,\n",
        "                                                    random_state=seed)"
      ],
      "execution_count": 6,
      "outputs": [
        {
          "output_type": "stream",
          "name": "stdout",
          "text": [
            "Element 0th:\n",
            "  - Features: [5.1 3.5 1.4 0.2]\n",
            "  - Target: [1. 0. 0.]\n",
            "  - Species: setosa\n",
            "\n",
            "Element 25th:\n",
            "  - Features: [5.  3.  1.6 0.2]\n",
            "  - Target: [1. 0. 0.]\n",
            "  - Species: versicolor\n",
            "\n",
            "Element 50th:\n",
            "  - Features: [7.  3.2 4.7 1.4]\n",
            "  - Target: [0. 1. 0.]\n",
            "  - Species: virginica\n",
            "\n",
            "Element 100th:\n",
            "  - Features: [6.3 3.3 6.  2.5]\n",
            "  - Target: [0. 0. 1.]\n",
            "  - Species: versicolor\n",
            "\n"
          ]
        }
      ]
    },
    {
      "cell_type": "markdown",
      "metadata": {
        "id": "ipLTk1GEIWq_"
      },
      "source": [
        "## Let's talk about the model...\n",
        "\n",
        "We will be using a very simple model, a feed-forward multi-layer perceptron.\n",
        "\n",
        "### Let's create the model with Keras!\n",
        "\n",
        "First of all, let's import what we'll use:"
      ]
    },
    {
      "cell_type": "code",
      "metadata": {
        "id": "6n42gKjsIBj8"
      },
      "source": [
        "# Let's import our Keras stuff:\n",
        "from tensorflow.keras.layers import Dense\n",
        "from tensorflow.keras.models import Sequential\n",
        "\n",
        "def iris_model(input_dim, output_dim, init_nodes=4, name='model'):\n",
        "    \"\"\"FF-MLP model for Iris classification problem.\"\"\"\n",
        "\n",
        "    # Create model:\n",
        "    model = Sequential(name=name)\n",
        "    # Add Dense -> init_nodes, input_dim=input_dim, activation='relu'\n",
        "    model.add(Dense(init_nodes, input_dim=input_dim, activation='relu'))\n",
        "    # Add Dense -> 2*init_nodes, activation='relu'\n",
        "    model.add(Dense(2*init_nodes,activation='relu'))\n",
        "    # Add Dense -> 3*init_nodes, activation='relu'\n",
        "    model.add(Dense(3*init_nodes,activation='relu'))\n",
        "    # Add Dense -> output_dim, activation='softmax'\n",
        "    model.add(Dense(output_dim, activation='softmax'))\n",
        "\n",
        "    # Compile model:\n",
        "    model.compile(loss='categorical_crossentropy',\n",
        "                  optimizer='adam',\n",
        "                  metrics=['accuracy'])\n",
        "\n",
        "    return model"
      ],
      "execution_count": 7,
      "outputs": []
    },
    {
      "cell_type": "markdown",
      "metadata": {
        "id": "Cgyhm_0dMh0R"
      },
      "source": [
        "### Useful resources\n",
        "\n",
        "- Sequential model: <https://keras.io/getting-started/sequential-model-guide/>\n",
        "- Classifying the Iris Data Set with Keras: <https://janakiev.com/notebooks/keras-iris/>\n",
        "\n",
        "### Building the model"
      ]
    },
    {
      "cell_type": "code",
      "metadata": {
        "id": "n4ysBBcKMYhZ",
        "colab": {
          "base_uri": "https://localhost:8080/"
        },
        "outputId": "15abb000-ad51-4fe2-9568-577286f808bf"
      },
      "source": [
        "# Let's build our model:\n",
        "model = iris_model(input_dim=x.shape[1], output_dim=len(names))\n",
        "model.summary()"
      ],
      "execution_count": 8,
      "outputs": [
        {
          "output_type": "stream",
          "name": "stdout",
          "text": [
            "Model: \"model\"\n",
            "_________________________________________________________________\n",
            " Layer (type)                Output Shape              Param #   \n",
            "=================================================================\n",
            " dense (Dense)               (None, 4)                 20        \n",
            "                                                                 \n",
            " dense_1 (Dense)             (None, 8)                 40        \n",
            "                                                                 \n",
            " dense_2 (Dense)             (None, 12)                108       \n",
            "                                                                 \n",
            " dense_3 (Dense)             (None, 3)                 39        \n",
            "                                                                 \n",
            "=================================================================\n",
            "Total params: 207 (828.00 Byte)\n",
            "Trainable params: 207 (828.00 Byte)\n",
            "Non-trainable params: 0 (0.00 Byte)\n",
            "_________________________________________________________________\n"
          ]
        }
      ]
    },
    {
      "cell_type": "markdown",
      "metadata": {
        "id": "9HUigT2jMyQy"
      },
      "source": [
        "### Training the model\n",
        "\n",
        "In order to train the model, we first need to set its training hyperparameters."
      ]
    },
    {
      "cell_type": "code",
      "metadata": {
        "id": "cdENafOPMsbA",
        "colab": {
          "base_uri": "https://localhost:8080/"
        },
        "outputId": "b825ff8f-80dd-4fcf-ab66-cc385753f015"
      },
      "source": [
        "# Set hyperparameters\n",
        "epochs = 100\n",
        "batch = 32\n",
        "\n",
        "# Fit the model\n",
        "history = model.fit(x_train, y_train,\n",
        "                    validation_data=(x_test, y_test),\n",
        "                    verbose=True,\n",
        "                    epochs=epochs, batch_size=batch)"
      ],
      "execution_count": 10,
      "outputs": [
        {
          "output_type": "stream",
          "name": "stdout",
          "text": [
            "Epoch 1/100\n",
            "4/4 [==============================] - 6s 75ms/step - loss: 1.1052 - accuracy: 0.0000e+00 - val_loss: 1.1014 - val_accuracy: 0.0000e+00\n",
            "Epoch 2/100\n",
            "4/4 [==============================] - 0s 13ms/step - loss: 1.1002 - accuracy: 0.0000e+00 - val_loss: 1.0972 - val_accuracy: 0.0000e+00\n",
            "Epoch 3/100\n",
            "4/4 [==============================] - 0s 20ms/step - loss: 1.0952 - accuracy: 0.0000e+00 - val_loss: 1.0933 - val_accuracy: 0.0000e+00\n",
            "Epoch 4/100\n",
            "4/4 [==============================] - 0s 13ms/step - loss: 1.0911 - accuracy: 0.0000e+00 - val_loss: 1.0896 - val_accuracy: 0.1333\n",
            "Epoch 5/100\n",
            "4/4 [==============================] - 0s 17ms/step - loss: 1.0872 - accuracy: 0.2095 - val_loss: 1.0861 - val_accuracy: 0.3111\n",
            "Epoch 6/100\n",
            "4/4 [==============================] - 0s 12ms/step - loss: 1.0832 - accuracy: 0.3429 - val_loss: 1.0834 - val_accuracy: 0.3111\n",
            "Epoch 7/100\n",
            "4/4 [==============================] - 0s 17ms/step - loss: 1.0803 - accuracy: 0.3429 - val_loss: 1.0807 - val_accuracy: 0.3111\n",
            "Epoch 8/100\n",
            "4/4 [==============================] - 0s 13ms/step - loss: 1.0771 - accuracy: 0.3429 - val_loss: 1.0779 - val_accuracy: 0.3111\n",
            "Epoch 9/100\n",
            "4/4 [==============================] - 0s 17ms/step - loss: 1.0736 - accuracy: 0.3429 - val_loss: 1.0748 - val_accuracy: 0.3111\n",
            "Epoch 10/100\n",
            "4/4 [==============================] - 0s 17ms/step - loss: 1.0699 - accuracy: 0.3429 - val_loss: 1.0714 - val_accuracy: 0.3111\n",
            "Epoch 11/100\n",
            "4/4 [==============================] - 0s 13ms/step - loss: 1.0659 - accuracy: 0.3429 - val_loss: 1.0678 - val_accuracy: 0.3111\n",
            "Epoch 12/100\n",
            "4/4 [==============================] - 0s 13ms/step - loss: 1.0619 - accuracy: 0.3429 - val_loss: 1.0639 - val_accuracy: 0.3111\n",
            "Epoch 13/100\n",
            "4/4 [==============================] - 0s 13ms/step - loss: 1.0572 - accuracy: 0.3429 - val_loss: 1.0591 - val_accuracy: 0.3111\n",
            "Epoch 14/100\n",
            "4/4 [==============================] - 0s 13ms/step - loss: 1.0517 - accuracy: 0.3429 - val_loss: 1.0529 - val_accuracy: 0.3111\n",
            "Epoch 15/100\n",
            "4/4 [==============================] - 0s 13ms/step - loss: 1.0450 - accuracy: 0.3429 - val_loss: 1.0461 - val_accuracy: 0.3111\n",
            "Epoch 16/100\n",
            "4/4 [==============================] - 0s 15ms/step - loss: 1.0375 - accuracy: 0.3619 - val_loss: 1.0391 - val_accuracy: 0.6222\n",
            "Epoch 17/100\n",
            "4/4 [==============================] - 0s 17ms/step - loss: 1.0301 - accuracy: 0.6857 - val_loss: 1.0317 - val_accuracy: 0.6222\n",
            "Epoch 18/100\n",
            "4/4 [==============================] - 0s 12ms/step - loss: 1.0218 - accuracy: 0.6857 - val_loss: 1.0238 - val_accuracy: 0.6222\n",
            "Epoch 19/100\n",
            "4/4 [==============================] - 0s 12ms/step - loss: 1.0140 - accuracy: 0.6667 - val_loss: 1.0155 - val_accuracy: 0.6889\n",
            "Epoch 20/100\n",
            "4/4 [==============================] - 0s 12ms/step - loss: 1.0050 - accuracy: 0.6571 - val_loss: 1.0071 - val_accuracy: 0.6889\n",
            "Epoch 21/100\n",
            "4/4 [==============================] - 0s 17ms/step - loss: 0.9964 - accuracy: 0.6571 - val_loss: 0.9984 - val_accuracy: 0.6889\n",
            "Epoch 22/100\n",
            "4/4 [==============================] - 0s 13ms/step - loss: 0.9867 - accuracy: 0.6571 - val_loss: 0.9894 - val_accuracy: 0.6889\n",
            "Epoch 23/100\n",
            "4/4 [==============================] - 0s 19ms/step - loss: 0.9775 - accuracy: 0.6571 - val_loss: 0.9801 - val_accuracy: 0.6889\n",
            "Epoch 24/100\n",
            "4/4 [==============================] - 0s 17ms/step - loss: 0.9678 - accuracy: 0.6571 - val_loss: 0.9703 - val_accuracy: 0.6889\n",
            "Epoch 25/100\n",
            "4/4 [==============================] - 0s 12ms/step - loss: 0.9580 - accuracy: 0.6667 - val_loss: 0.9605 - val_accuracy: 0.6889\n",
            "Epoch 26/100\n",
            "4/4 [==============================] - 0s 13ms/step - loss: 0.9472 - accuracy: 0.6667 - val_loss: 0.9503 - val_accuracy: 0.6889\n",
            "Epoch 27/100\n",
            "4/4 [==============================] - 0s 13ms/step - loss: 0.9370 - accuracy: 0.6762 - val_loss: 0.9400 - val_accuracy: 0.6889\n",
            "Epoch 28/100\n",
            "4/4 [==============================] - 0s 20ms/step - loss: 0.9254 - accuracy: 0.6762 - val_loss: 0.9295 - val_accuracy: 0.6889\n",
            "Epoch 29/100\n",
            "4/4 [==============================] - 0s 14ms/step - loss: 0.9149 - accuracy: 0.6762 - val_loss: 0.9189 - val_accuracy: 0.6889\n",
            "Epoch 30/100\n",
            "4/4 [==============================] - 0s 12ms/step - loss: 0.9037 - accuracy: 0.6571 - val_loss: 0.9084 - val_accuracy: 0.7111\n",
            "Epoch 31/100\n",
            "4/4 [==============================] - 0s 13ms/step - loss: 0.8926 - accuracy: 0.7048 - val_loss: 0.8977 - val_accuracy: 0.7778\n",
            "Epoch 32/100\n",
            "4/4 [==============================] - 0s 17ms/step - loss: 0.8817 - accuracy: 0.7429 - val_loss: 0.8868 - val_accuracy: 0.7778\n",
            "Epoch 33/100\n",
            "4/4 [==============================] - 0s 13ms/step - loss: 0.8701 - accuracy: 0.7810 - val_loss: 0.8762 - val_accuracy: 0.8000\n",
            "Epoch 34/100\n",
            "4/4 [==============================] - 0s 12ms/step - loss: 0.8598 - accuracy: 0.8190 - val_loss: 0.8656 - val_accuracy: 0.8222\n",
            "Epoch 35/100\n",
            "4/4 [==============================] - 0s 18ms/step - loss: 0.8490 - accuracy: 0.8095 - val_loss: 0.8550 - val_accuracy: 0.7556\n",
            "Epoch 36/100\n",
            "4/4 [==============================] - 0s 13ms/step - loss: 0.8379 - accuracy: 0.7714 - val_loss: 0.8448 - val_accuracy: 0.7778\n",
            "Epoch 37/100\n",
            "4/4 [==============================] - 0s 18ms/step - loss: 0.8278 - accuracy: 0.7810 - val_loss: 0.8348 - val_accuracy: 0.8000\n",
            "Epoch 38/100\n",
            "4/4 [==============================] - 0s 13ms/step - loss: 0.8175 - accuracy: 0.7905 - val_loss: 0.8251 - val_accuracy: 0.8000\n",
            "Epoch 39/100\n",
            "4/4 [==============================] - 0s 12ms/step - loss: 0.8072 - accuracy: 0.7905 - val_loss: 0.8154 - val_accuracy: 0.8222\n",
            "Epoch 40/100\n",
            "4/4 [==============================] - 0s 12ms/step - loss: 0.7972 - accuracy: 0.7905 - val_loss: 0.8054 - val_accuracy: 0.8000\n",
            "Epoch 41/100\n",
            "4/4 [==============================] - 0s 13ms/step - loss: 0.7875 - accuracy: 0.8000 - val_loss: 0.7954 - val_accuracy: 0.8000\n",
            "Epoch 42/100\n",
            "4/4 [==============================] - 0s 18ms/step - loss: 0.7774 - accuracy: 0.8095 - val_loss: 0.7857 - val_accuracy: 0.8000\n",
            "Epoch 43/100\n",
            "4/4 [==============================] - 0s 17ms/step - loss: 0.7678 - accuracy: 0.8286 - val_loss: 0.7763 - val_accuracy: 0.8000\n",
            "Epoch 44/100\n",
            "4/4 [==============================] - 0s 17ms/step - loss: 0.7583 - accuracy: 0.8667 - val_loss: 0.7673 - val_accuracy: 0.8444\n",
            "Epoch 45/100\n",
            "4/4 [==============================] - 0s 14ms/step - loss: 0.7490 - accuracy: 0.8762 - val_loss: 0.7581 - val_accuracy: 0.8444\n",
            "Epoch 46/100\n",
            "4/4 [==============================] - 0s 15ms/step - loss: 0.7398 - accuracy: 0.8762 - val_loss: 0.7491 - val_accuracy: 0.8667\n",
            "Epoch 47/100\n",
            "4/4 [==============================] - 0s 14ms/step - loss: 0.7308 - accuracy: 0.8857 - val_loss: 0.7403 - val_accuracy: 0.9111\n",
            "Epoch 48/100\n",
            "4/4 [==============================] - 0s 15ms/step - loss: 0.7218 - accuracy: 0.8857 - val_loss: 0.7313 - val_accuracy: 0.9111\n",
            "Epoch 49/100\n",
            "4/4 [==============================] - 0s 13ms/step - loss: 0.7129 - accuracy: 0.8857 - val_loss: 0.7224 - val_accuracy: 0.8667\n",
            "Epoch 50/100\n",
            "4/4 [==============================] - 0s 12ms/step - loss: 0.7043 - accuracy: 0.8857 - val_loss: 0.7137 - val_accuracy: 0.8667\n",
            "Epoch 51/100\n",
            "4/4 [==============================] - 0s 17ms/step - loss: 0.6958 - accuracy: 0.8952 - val_loss: 0.7056 - val_accuracy: 0.8444\n",
            "Epoch 52/100\n",
            "4/4 [==============================] - 0s 12ms/step - loss: 0.6876 - accuracy: 0.8952 - val_loss: 0.6972 - val_accuracy: 0.8667\n",
            "Epoch 53/100\n",
            "4/4 [==============================] - 0s 17ms/step - loss: 0.6794 - accuracy: 0.8952 - val_loss: 0.6887 - val_accuracy: 0.8444\n",
            "Epoch 54/100\n",
            "4/4 [==============================] - 0s 13ms/step - loss: 0.6714 - accuracy: 0.8952 - val_loss: 0.6808 - val_accuracy: 0.8444\n",
            "Epoch 55/100\n",
            "4/4 [==============================] - 0s 18ms/step - loss: 0.6639 - accuracy: 0.8952 - val_loss: 0.6730 - val_accuracy: 0.8444\n",
            "Epoch 56/100\n",
            "4/4 [==============================] - 0s 18ms/step - loss: 0.6560 - accuracy: 0.8952 - val_loss: 0.6654 - val_accuracy: 0.8667\n",
            "Epoch 57/100\n",
            "4/4 [==============================] - 0s 17ms/step - loss: 0.6485 - accuracy: 0.8952 - val_loss: 0.6586 - val_accuracy: 0.8667\n",
            "Epoch 58/100\n",
            "4/4 [==============================] - 0s 12ms/step - loss: 0.6415 - accuracy: 0.8952 - val_loss: 0.6514 - val_accuracy: 0.8667\n",
            "Epoch 59/100\n",
            "4/4 [==============================] - 0s 13ms/step - loss: 0.6341 - accuracy: 0.8952 - val_loss: 0.6439 - val_accuracy: 0.8667\n",
            "Epoch 60/100\n",
            "4/4 [==============================] - 0s 18ms/step - loss: 0.6270 - accuracy: 0.8952 - val_loss: 0.6368 - val_accuracy: 0.8889\n",
            "Epoch 61/100\n",
            "4/4 [==============================] - 0s 13ms/step - loss: 0.6200 - accuracy: 0.8952 - val_loss: 0.6298 - val_accuracy: 0.8889\n",
            "Epoch 62/100\n",
            "4/4 [==============================] - 0s 13ms/step - loss: 0.6133 - accuracy: 0.9048 - val_loss: 0.6229 - val_accuracy: 0.8889\n",
            "Epoch 63/100\n",
            "4/4 [==============================] - 0s 14ms/step - loss: 0.6067 - accuracy: 0.8952 - val_loss: 0.6162 - val_accuracy: 0.8889\n",
            "Epoch 64/100\n",
            "4/4 [==============================] - 0s 18ms/step - loss: 0.5999 - accuracy: 0.8952 - val_loss: 0.6099 - val_accuracy: 0.8889\n",
            "Epoch 65/100\n",
            "4/4 [==============================] - 0s 13ms/step - loss: 0.5934 - accuracy: 0.9048 - val_loss: 0.6037 - val_accuracy: 0.8889\n",
            "Epoch 66/100\n",
            "4/4 [==============================] - 0s 13ms/step - loss: 0.5871 - accuracy: 0.9048 - val_loss: 0.5975 - val_accuracy: 0.9333\n",
            "Epoch 67/100\n",
            "4/4 [==============================] - 0s 13ms/step - loss: 0.5807 - accuracy: 0.9143 - val_loss: 0.5911 - val_accuracy: 0.9333\n",
            "Epoch 68/100\n",
            "4/4 [==============================] - 0s 12ms/step - loss: 0.5744 - accuracy: 0.9143 - val_loss: 0.5847 - val_accuracy: 0.9333\n",
            "Epoch 69/100\n",
            "4/4 [==============================] - 0s 17ms/step - loss: 0.5682 - accuracy: 0.9238 - val_loss: 0.5783 - val_accuracy: 0.9333\n",
            "Epoch 70/100\n",
            "4/4 [==============================] - 0s 18ms/step - loss: 0.5622 - accuracy: 0.9238 - val_loss: 0.5723 - val_accuracy: 0.9333\n",
            "Epoch 71/100\n",
            "4/4 [==============================] - 0s 13ms/step - loss: 0.5563 - accuracy: 0.9333 - val_loss: 0.5667 - val_accuracy: 0.9333\n",
            "Epoch 72/100\n",
            "4/4 [==============================] - 0s 18ms/step - loss: 0.5505 - accuracy: 0.9333 - val_loss: 0.5605 - val_accuracy: 0.9333\n",
            "Epoch 73/100\n",
            "4/4 [==============================] - 0s 13ms/step - loss: 0.5447 - accuracy: 0.9333 - val_loss: 0.5546 - val_accuracy: 0.8889\n",
            "Epoch 74/100\n",
            "4/4 [==============================] - 0s 18ms/step - loss: 0.5394 - accuracy: 0.9238 - val_loss: 0.5491 - val_accuracy: 0.8667\n",
            "Epoch 75/100\n",
            "4/4 [==============================] - 0s 12ms/step - loss: 0.5340 - accuracy: 0.9238 - val_loss: 0.5435 - val_accuracy: 0.8667\n",
            "Epoch 76/100\n",
            "4/4 [==============================] - 0s 13ms/step - loss: 0.5283 - accuracy: 0.9333 - val_loss: 0.5382 - val_accuracy: 0.9333\n",
            "Epoch 77/100\n",
            "4/4 [==============================] - 0s 17ms/step - loss: 0.5226 - accuracy: 0.9333 - val_loss: 0.5331 - val_accuracy: 0.9333\n",
            "Epoch 78/100\n",
            "4/4 [==============================] - 0s 12ms/step - loss: 0.5172 - accuracy: 0.9429 - val_loss: 0.5280 - val_accuracy: 0.9333\n",
            "Epoch 79/100\n",
            "4/4 [==============================] - 0s 18ms/step - loss: 0.5120 - accuracy: 0.9429 - val_loss: 0.5228 - val_accuracy: 0.9333\n",
            "Epoch 80/100\n",
            "4/4 [==============================] - 0s 13ms/step - loss: 0.5066 - accuracy: 0.9429 - val_loss: 0.5174 - val_accuracy: 0.9333\n",
            "Epoch 81/100\n",
            "4/4 [==============================] - 0s 13ms/step - loss: 0.5013 - accuracy: 0.9429 - val_loss: 0.5122 - val_accuracy: 0.9333\n",
            "Epoch 82/100\n",
            "4/4 [==============================] - 0s 21ms/step - loss: 0.4962 - accuracy: 0.9429 - val_loss: 0.5071 - val_accuracy: 0.9333\n",
            "Epoch 83/100\n",
            "4/4 [==============================] - 0s 18ms/step - loss: 0.4910 - accuracy: 0.9429 - val_loss: 0.5024 - val_accuracy: 0.9556\n",
            "Epoch 84/100\n",
            "4/4 [==============================] - 0s 19ms/step - loss: 0.4860 - accuracy: 0.9429 - val_loss: 0.4977 - val_accuracy: 0.9556\n",
            "Epoch 85/100\n",
            "4/4 [==============================] - 0s 13ms/step - loss: 0.4807 - accuracy: 0.9429 - val_loss: 0.4933 - val_accuracy: 0.9778\n",
            "Epoch 86/100\n",
            "4/4 [==============================] - 0s 18ms/step - loss: 0.4761 - accuracy: 0.9429 - val_loss: 0.4882 - val_accuracy: 0.9556\n",
            "Epoch 87/100\n",
            "4/4 [==============================] - 0s 16ms/step - loss: 0.4705 - accuracy: 0.9429 - val_loss: 0.4839 - val_accuracy: 0.9778\n",
            "Epoch 88/100\n",
            "4/4 [==============================] - 0s 14ms/step - loss: 0.4659 - accuracy: 0.9524 - val_loss: 0.4794 - val_accuracy: 0.9778\n",
            "Epoch 89/100\n",
            "4/4 [==============================] - 0s 13ms/step - loss: 0.4606 - accuracy: 0.9429 - val_loss: 0.4744 - val_accuracy: 0.9778\n",
            "Epoch 90/100\n",
            "4/4 [==============================] - 0s 13ms/step - loss: 0.4556 - accuracy: 0.9429 - val_loss: 0.4700 - val_accuracy: 0.9778\n",
            "Epoch 91/100\n",
            "4/4 [==============================] - 0s 13ms/step - loss: 0.4511 - accuracy: 0.9429 - val_loss: 0.4655 - val_accuracy: 0.9778\n",
            "Epoch 92/100\n",
            "4/4 [==============================] - 0s 18ms/step - loss: 0.4463 - accuracy: 0.9429 - val_loss: 0.4609 - val_accuracy: 0.9778\n",
            "Epoch 93/100\n",
            "4/4 [==============================] - 0s 13ms/step - loss: 0.4408 - accuracy: 0.9524 - val_loss: 0.4570 - val_accuracy: 0.9778\n",
            "Epoch 94/100\n",
            "4/4 [==============================] - 0s 19ms/step - loss: 0.4367 - accuracy: 0.9714 - val_loss: 0.4535 - val_accuracy: 0.9778\n",
            "Epoch 95/100\n",
            "4/4 [==============================] - 0s 13ms/step - loss: 0.4325 - accuracy: 0.9810 - val_loss: 0.4486 - val_accuracy: 0.9778\n",
            "Epoch 96/100\n",
            "4/4 [==============================] - 0s 19ms/step - loss: 0.4273 - accuracy: 0.9810 - val_loss: 0.4430 - val_accuracy: 0.9778\n",
            "Epoch 97/100\n",
            "4/4 [==============================] - 0s 14ms/step - loss: 0.4228 - accuracy: 0.9524 - val_loss: 0.4381 - val_accuracy: 0.9778\n",
            "Epoch 98/100\n",
            "4/4 [==============================] - 0s 14ms/step - loss: 0.4184 - accuracy: 0.9429 - val_loss: 0.4339 - val_accuracy: 0.9778\n",
            "Epoch 99/100\n",
            "4/4 [==============================] - 0s 13ms/step - loss: 0.4137 - accuracy: 0.9524 - val_loss: 0.4300 - val_accuracy: 0.9778\n",
            "Epoch 100/100\n",
            "4/4 [==============================] - 0s 16ms/step - loss: 0.4092 - accuracy: 0.9714 - val_loss: 0.4262 - val_accuracy: 0.9778\n"
          ]
        }
      ]
    },
    {
      "cell_type": "markdown",
      "metadata": {
        "id": "eMxNyoxvOV4D"
      },
      "source": [
        "### Evaluating the results"
      ]
    },
    {
      "cell_type": "code",
      "metadata": {
        "id": "WLcDoeWxOU60",
        "colab": {
          "base_uri": "https://localhost:8080/"
        },
        "outputId": "1a226a27-4cc3-49bb-9e83-ca6a960fe827"
      },
      "source": [
        "# Final evaluation of the model:\n",
        "scores = model.evaluate(x_test, y_test, verbose=1)\n",
        "print(f'Test accuracy: {scores[1]}')"
      ],
      "execution_count": 11,
      "outputs": [
        {
          "output_type": "stream",
          "name": "stdout",
          "text": [
            "2/2 [==============================] - 0s 9ms/step - loss: 0.4262 - accuracy: 0.9778\n",
            "Test accuracy: 0.9777777791023254\n"
          ]
        }
      ]
    },
    {
      "cell_type": "markdown",
      "metadata": {
        "id": "qByC6HBbQjiZ"
      },
      "source": [
        "### Plot the training along the time"
      ]
    },
    {
      "cell_type": "code",
      "metadata": {
        "id": "jYoJzOAnQi97"
      },
      "source": [
        "def plot_loss(history):\n",
        "    plt.style.use(\"ggplot\")\n",
        "    plt.figure(figsize=(8, 4))\n",
        "    plt.plot(history.history['loss'])\n",
        "    plt.plot(history.history['val_loss'])\n",
        "    plt.title(\"Model's training loss\")\n",
        "    plt.xlabel(\"Epoch #\")\n",
        "    plt.ylabel(\"Loss\")\n",
        "    plt.legend(['Train', 'Test'], loc='upper left')\n",
        "    plt.show()\n",
        "\n",
        "\n",
        "def plot_accuracy(history):\n",
        "    plt.style.use(\"ggplot\")\n",
        "    plt.figure(figsize=(8, 4))\n",
        "    plt.plot(history.history['accuracy'])\n",
        "    plt.plot(history.history['val_accuracy'])\n",
        "    plt.title(\"Model's training accuracy\")\n",
        "    plt.xlabel(\"Epoch #\")\n",
        "    plt.ylabel(\"Accuracy\")\n",
        "    plt.legend(['Train', 'Test'], loc='upper left')\n",
        "    plt.show()"
      ],
      "execution_count": 13,
      "outputs": []
    },
    {
      "cell_type": "code",
      "metadata": {
        "id": "9kdabtBjNKwK",
        "colab": {
          "base_uri": "https://localhost:8080/",
          "height": 813
        },
        "outputId": "a31beb1a-bdcf-4515-8bc7-162bdcfe860b"
      },
      "source": [
        "plot_loss(history)\n",
        "plot_accuracy(history)"
      ],
      "execution_count": 14,
      "outputs": [
        {
          "output_type": "display_data",
          "data": {
            "text/plain": [
              "<Figure size 800x400 with 1 Axes>"
            ],
            "image/png": "[encoded data removed]"
          },
          "metadata": {}
        },
        {
          "output_type": "display_data",
          "data": {
            "text/plain": [
              "<Figure size 800x400 with 1 Axes>"
            ],
            "image/png": "[encoded data removed]"
          },
          "metadata": {}
        }
      ]
    },
    {
      "cell_type": "markdown",
      "metadata": {
        "id": "tHYbaMS2UhVZ"
      },
      "source": [
        "_How can we save these plots?_\n",
        "\n",
        "## Saving a model\n",
        "\n",
        "To save the trained model we will basically do two things:\n",
        "\n",
        "1. Serialize the model into a JSON file, which will save the architecture of our model.\n",
        "2. Serialize the weights into a HDF5 file, which will save all parameters of our model."
      ]
    },
    {
      "cell_type": "code",
      "metadata": {
        "id": "kq7y3CtkQnTT",
        "colab": {
          "base_uri": "https://localhost:8080/"
        },
        "outputId": "c1129af9-8b6b-497e-beb0-24c2eec98887"
      },
      "source": [
        "# Serialize model to JSON:\n",
        "model_json = model.to_json()\n",
        "with open(\"iris_model.json\", \"w\") as json_file:\n",
        "    json_file.write(model_json)\n",
        "\n",
        "# Serialize weights to HDF5 (h5py needed):\n",
        "model.save_weights(\"iris_model.h5\")\n",
        "print(\"Model saved to disk.\")"
      ],
      "execution_count": 15,
      "outputs": [
        {
          "output_type": "stream",
          "name": "stdout",
          "text": [
            "Model saved to disk.\n"
          ]
        }
      ]
    },
    {
      "cell_type": "markdown",
      "metadata": {
        "id": "nJ1OGbhTVo82"
      },
      "source": [
        "## Downloading a model\n",
        "\n",
        "We just need to import the Google Colab module and download the specified files."
      ]
    },
    {
      "cell_type": "code",
      "metadata": {
        "id": "DZ9Z34ndVwvv",
        "colab": {
          "base_uri": "https://localhost:8080/",
          "height": 17
        },
        "outputId": "9f631778-648c-4c3a-d191-6992856617e0"
      },
      "source": [
        "from google.colab import files\n",
        "\n",
        "model_files = ['iris_model.json', 'iris_model.h5']\n",
        "for file in model_files:\n",
        "    files.download(file)"
      ],
      "execution_count": 16,
      "outputs": [
        {
          "output_type": "display_data",
          "data": {
            "text/plain": [
              "<IPython.core.display.Javascript object>"
            ],
            "application/javascript": [
              "\n",
              "    async function download(id, filename, size) {\n",
              "      if (!google.colab.kernel.accessAllowed) {\n",
              "        return;\n",
              "      }\n",
              "      const div = document.createElement('div');\n",
              "      const label = document.createElement('label');\n",
              "      label.textContent = `Downloading \"${filename}\": `;\n",
              "      div.appendChild(label);\n",
              "      const progress = document.createElement('progress');\n",
              "      progress.max = size;\n",
              "      div.appendChild(progress);\n",
              "      document.body.appendChild(div);\n",
              "\n",
              "      const buffers = [];\n",
              "      let downloaded = 0;\n",
              "\n",
              "      const channel = await google.colab.kernel.comms.open(id);\n",
              "      // Send a message to notify the kernel that we're ready.\n",
              "      channel.send({})\n",
              "\n",
              "      for await (const message of channel.messages) {\n",
              "        // Send a message to notify the kernel that we're ready.\n",
              "        channel.send({})\n",
              "        if (message.buffers) {\n",
              "          for (const buffer of message.buffers) {\n",
              "            buffers.push(buffer);\n",
              "            downloaded += buffer.byteLength;\n",
              "            progress.value = downloaded;\n",
              "          }\n",
              "        }\n",
              "      }\n",
              "      const blob = new Blob(buffers, {type: 'application/binary'});\n",
              "      const a = document.createElement('a');\n",
              "      a.href = window.URL.createObjectURL(blob);\n",
              "      a.download = filename;\n",
              "      div.appendChild(a);\n",
              "      a.click();\n",
              "      div.remove();\n",
              "    }\n",
              "  "
            ]
          },
          "metadata": {}
        },
        {
          "output_type": "display_data",
          "data": {
            "text/plain": [
              "<IPython.core.display.Javascript object>"
            ],
            "application/javascript": [
              "download(\"download_c5c616fe-4643-4acf-a886-936a3ac88b61\", \"iris_model.json\", 2886)"
            ]
          },
          "metadata": {}
        },
        {
          "output_type": "display_data",
          "data": {
            "text/plain": [
              "<IPython.core.display.Javascript object>"
            ],
            "application/javascript": [
              "\n",
              "    async function download(id, filename, size) {\n",
              "      if (!google.colab.kernel.accessAllowed) {\n",
              "        return;\n",
              "      }\n",
              "      const div = document.createElement('div');\n",
              "      const label = document.createElement('label');\n",
              "      label.textContent = `Downloading \"${filename}\": `;\n",
              "      div.appendChild(label);\n",
              "      const progress = document.createElement('progress');\n",
              "      progress.max = size;\n",
              "      div.appendChild(progress);\n",
              "      document.body.appendChild(div);\n",
              "\n",
              "      const buffers = [];\n",
              "      let downloaded = 0;\n",
              "\n",
              "      const channel = await google.colab.kernel.comms.open(id);\n",
              "      // Send a message to notify the kernel that we're ready.\n",
              "      channel.send({})\n",
              "\n",
              "      for await (const message of channel.messages) {\n",
              "        // Send a message to notify the kernel that we're ready.\n",
              "        channel.send({})\n",
              "        if (message.buffers) {\n",
              "          for (const buffer of message.buffers) {\n",
              "            buffers.push(buffer);\n",
              "            downloaded += buffer.byteLength;\n",
              "            progress.value = downloaded;\n",
              "          }\n",
              "        }\n",
              "      }\n",
              "      const blob = new Blob(buffers, {type: 'application/binary'});\n",
              "      const a = document.createElement('a');\n",
              "      a.href = window.URL.createObjectURL(blob);\n",
              "      a.download = filename;\n",
              "      div.appendChild(a);\n",
              "      a.click();\n",
              "      div.remove();\n",
              "    }\n",
              "  "
            ]
          },
          "metadata": {}
        },
        {
          "output_type": "display_data",
          "data": {
            "text/plain": [
              "<IPython.core.display.Javascript object>"
            ],
            "application/javascript": [
              "download(\"download_597a1708-5903-4572-9977-af1843b89ad7\", \"iris_model.h5\", 19392)"
            ]
          },
          "metadata": {}
        }
      ]
    },
    {
      "cell_type": "markdown",
      "metadata": {
        "id": "XzHznMlxXgry"
      },
      "source": [
        "## Loading a trained model\n",
        "We will basically do three things:\n",
        "\n",
        "1. Load the model from a JSON file.\n",
        "2. Load the weights from a HDF5 file.\n",
        "3. (Re)Compile the trained model."
      ]
    },
    {
      "cell_type": "code",
      "metadata": {
        "id": "_ZtlTbNpWdAM",
        "colab": {
          "base_uri": "https://localhost:8080/"
        },
        "outputId": "dad3b646-531c-4e36-aa45-40e0047f65b4"
      },
      "source": [
        "# Load json and create model:\n",
        "from tensorflow.keras.models import model_from_json\n",
        "\n",
        "json_file = open('iris_model.json', 'r')\n",
        "loaded_model_json = json_file.read()\n",
        "json_file.close()\n",
        "loaded_model = model_from_json(loaded_model_json)\n",
        "\n",
        "# Load weights into loaded model:\n",
        "loaded_model.load_weights(\"iris_model.h5\")\n",
        "print(\"Model loaded from disk.\")"
      ],
      "execution_count": 17,
      "outputs": [
        {
          "output_type": "stream",
          "name": "stdout",
          "text": [
            "Model loaded from disk.\n"
          ]
        }
      ]
    },
    {
      "cell_type": "code",
      "metadata": {
        "id": "Qnt7JaIGXxk8",
        "colab": {
          "base_uri": "https://localhost:8080/"
        },
        "outputId": "61669d32-62ba-4de9-f9d6-bb835caf6ffd"
      },
      "source": [
        "# Evaluate loaded model on test data:\n",
        "loaded_model.compile(loss='categorical_crossentropy',\n",
        "                     optimizer='adam',\n",
        "                     metrics=['accuracy'])\n",
        "\n",
        "score = loaded_model.evaluate(x_test, y_test, verbose=1)\n",
        "print(f'Test accuracy: {score[1]}')"
      ],
      "execution_count": 18,
      "outputs": [
        {
          "output_type": "stream",
          "name": "stdout",
          "text": [
            "2/2 [==============================] - 0s 8ms/step - loss: 0.4262 - accuracy: 0.9778\n",
            "Test accuracy: 0.9777777791023254\n"
          ]
        }
      ]
    },
    {
      "cell_type": "markdown",
      "metadata": {
        "id": "mdg_v2slX9Ou"
      },
      "source": [
        "## Predicting from new data\n",
        "\n",
        "Now that we have a trained model, how do we use it?\n",
        "\n",
        "It is as simple as follows:"
      ]
    },
    {
      "cell_type": "code",
      "metadata": {
        "id": "x7fUV0QyX5sB",
        "colab": {
          "base_uri": "https://localhost:8080/"
        },
        "outputId": "4a4a6164-ad7d-42df-9c14-86b3c343f2e3"
      },
      "source": [
        "# Remembering some elements:\n",
        "for element in elements_to_display:\n",
        "    prediction_vector = model.predict(np.array([x[element]]))\n",
        "    print(f\"Element {element}th:\")\n",
        "    print(f\"  - Features: {x[element]}\")\n",
        "    print(f\"  - Target: {y[element]}\")\n",
        "    print(f\"  - Scpecies: {names[np.argmax(y[element])]}\")\n",
        "    print(f\"  - Predicted species: {names[np.argmax(prediction_vector)]}\")\n",
        "    print()"
      ],
      "execution_count": 19,
      "outputs": [
        {
          "output_type": "stream",
          "name": "stdout",
          "text": [
            "1/1 [==============================] - 0s 97ms/step\n",
            "Element 0th:\n",
            "  - Features: [5.1 3.5 1.4 0.2]\n",
            "  - Target: [1. 0. 0.]\n",
            "  - Scpecies: setosa\n",
            "  - Predicted species: setosa\n",
            "\n",
            "1/1 [==============================] - 0s 17ms/step\n",
            "Element 25th:\n",
            "  - Features: [5.  3.  1.6 0.2]\n",
            "  - Target: [1. 0. 0.]\n",
            "  - Scpecies: setosa\n",
            "  - Predicted species: setosa\n",
            "\n",
            "1/1 [==============================] - 0s 18ms/step\n",
            "Element 50th:\n",
            "  - Features: [7.  3.2 4.7 1.4]\n",
            "  - Target: [0. 1. 0.]\n",
            "  - Scpecies: versicolor\n",
            "  - Predicted species: versicolor\n",
            "\n",
            "1/1 [==============================] - 0s 19ms/step\n",
            "Element 100th:\n",
            "  - Features: [6.3 3.3 6.  2.5]\n",
            "  - Target: [0. 0. 1.]\n",
            "  - Scpecies: virginica\n",
            "  - Predicted species: virginica\n",
            "\n"
          ]
        }
      ]
    },
    {
      "cell_type": "code",
      "metadata": {
        "id": "gVA5PIfXYWc2"
      },
      "source": [],
      "execution_count": null,
      "outputs": []
    }
  ]
}