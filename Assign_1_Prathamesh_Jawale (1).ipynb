{
  "nbformat": 4,
  "nbformat_minor": 0,
  "metadata": {
    "colab": {
      "provenance": []
    },
    "kernelspec": {
      "name": "python3",
      "display_name": "Python 3"
    },
    "language_info": {
      "name": "python"
    }
  },
  "cells": [
    {
      "cell_type": "code",
      "execution_count": null,
      "metadata": {
        "id": "zSsPybNXs8hq"
      },
      "outputs": [],
      "source": [
        "import numpy as np\n",
        "import pandas as pd\n",
        "from matplotlib import pyplot as plt"
      ]
    },
    {
      "cell_type": "code",
      "source": [
        "data = pd.read_csv('train.csv')"
      ],
      "metadata": {
        "id": "xx3hy-5iv_a8"
      },
      "execution_count": null,
      "outputs": []
    },
    {
      "cell_type": "code",
      "source": [
        "data = np.array(data)\n",
        "m, n = data.shape\n",
        "np.random.shuffle(data) # shuffle before splitting into dev and training sets\n",
        "\n",
        "data_dev = data[0:1000].T\n",
        "Y_dev = data_dev[0]\n",
        "X_dev = data_dev[1:n]\n",
        "X_dev = X_dev / 255.\n",
        "\n",
        "data_train = data[1000:m].T\n",
        "Y_train = data_train[0]\n",
        "X_train = data_train[1:n]\n",
        "X_train = X_train / 255.\n",
        "_,m_train = X_train.shape"
      ],
      "metadata": {
        "id": "L4Fz7LJi02H2"
      },
      "execution_count": null,
      "outputs": []
    },
    {
      "cell_type": "code",
      "source": [
        "Y_train"
      ],
      "metadata": {
        "colab": {
          "base_uri": "https://localhost:8080/"
        },
        "id": "jEXJMx3H0-ki",
        "outputId": "d0b68eaf-d654-4e70-ecbc-57253fdbf82e"
      },
      "execution_count": null,
      "outputs": [
        {
          "output_type": "execute_result",
          "data": {
            "text/plain": [
              "array([9, 3, 6, ..., 1, 5, 5])"
            ]
          },
          "metadata": {},
          "execution_count": 7
        }
      ]
    },
    {
      "cell_type": "code",
      "source": [
        "def init_params():\n",
        "    W1 = np.random.rand(10, 784) - 0.5\n",
        "    b1 = np.random.rand(10, 1) - 0.5\n",
        "    W2 = np.random.rand(10, 10) - 0.5\n",
        "    b2 = np.random.rand(10, 1) - 0.5\n",
        "    return W1, b1, W2, b2\n",
        "\n",
        "def ReLU(Z):\n",
        "    return np.maximum(Z, 0)\n",
        "\n",
        "def softmax(Z):\n",
        "    A = np.exp(Z) / sum(np.exp(Z))\n",
        "    return A\n",
        "\n",
        "def forward_prop(W1, b1, W2, b2, X):\n",
        "    Z1 = W1.dot(X) + b1\n",
        "    A1 = ReLU(Z1)\n",
        "    Z2 = W2.dot(A1) + b2\n",
        "    A2 = softmax(Z2)\n",
        "    return Z1, A1, Z2, A2\n",
        "\n",
        "def ReLU_deriv(Z):\n",
        "    return Z > 0\n",
        "\n",
        "def one_hot(Y):\n",
        "    one_hot_Y = np.zeros((Y.size, Y.max() + 1))\n",
        "    one_hot_Y[np.arange(Y.size), Y] = 1\n",
        "    one_hot_Y = one_hot_Y.T\n",
        "    return one_hot_Y\n",
        "\n",
        "def backward_prop(Z1, A1, Z2, A2, W1, W2, X, Y):\n",
        "    one_hot_Y = one_hot(Y)\n",
        "    dZ2 = A2 - one_hot_Y\n",
        "    dW2 = 1 / m * dZ2.dot(A1.T)\n",
        "    db2 = 1 / m * np.sum(dZ2)\n",
        "    dZ1 = W2.T.dot(dZ2) * ReLU_deriv(Z1)\n",
        "    dW1 = 1 / m * dZ1.dot(X.T)\n",
        "    db1 = 1 / m * np.sum(dZ1)\n",
        "    return dW1, db1, dW2, db2\n",
        "\n",
        "def update_params(W1, b1, W2, b2, dW1, db1, dW2, db2, alpha):\n",
        "    W1 = W1 - alpha * dW1\n",
        "    b1 = b1 - alpha * db1\n",
        "    W2 = W2 - alpha * dW2\n",
        "    b2 = b2 - alpha * db2\n",
        "    return W1, b1, W2, b2"
      ],
      "metadata": {
        "id": "bgJ4SG-z1Cnm"
      },
      "execution_count": null,
      "outputs": []
    },
    {
      "cell_type": "code",
      "source": [
        "def get_predictions(A2):\n",
        "    return np.argmax(A2, 0)\n",
        "\n",
        "def get_accuracy(predictions, Y):\n",
        "    print(predictions, Y)\n",
        "    return np.sum(predictions == Y) / Y.size\n",
        "\n",
        "def gradient_descent(X, Y, alpha, iterations):\n",
        "    W1, b1, W2, b2 = init_params()\n",
        "    for i in range(iterations):\n",
        "        Z1, A1, Z2, A2 = forward_prop(W1, b1, W2, b2, X)\n",
        "        dW1, db1, dW2, db2 = backward_prop(Z1, A1, Z2, A2, W1, W2, X, Y)\n",
        "        W1, b1, W2, b2 = update_params(W1, b1, W2, b2, dW1, db1, dW2, db2, alpha)\n",
        "        if i % 10 == 0:\n",
        "            print(\"Iteration: \", i)\n",
        "            predictions = get_predictions(A2)\n",
        "            print(get_accuracy(predictions, Y))\n",
        "    return W1, b1, W2, b2"
      ],
      "metadata": {
        "id": "xBbwoQXO1HxV"
      },
      "execution_count": null,
      "outputs": []
    },
    {
      "cell_type": "code",
      "source": [
        "W1, b1, W2, b2 = gradient_descent(X_train, Y_train, 0.10, 500)"
      ],
      "metadata": {
        "colab": {
          "base_uri": "https://localhost:8080/"
        },
        "id": "35UTFryx1O78",
        "outputId": "e53f3434-2e3c-42c5-967f-c29ff0694d62"
      },
      "execution_count": null,
      "outputs": [
        {
          "output_type": "stream",
          "name": "stdout",
          "text": [
            "Iteration:  0\n",
            "[0 0 1 ... 1 3 1] [9 3 6 ... 1 5 5]\n",
            "0.08151219512195122\n",
            "Iteration:  10\n",
            "[0 0 2 ... 2 8 8] [9 3 6 ... 1 5 5]\n",
            "0.15597560975609756\n",
            "Iteration:  20\n",
            "[0 1 2 ... 2 8 8] [9 3 6 ... 1 5 5]\n",
            "0.2466829268292683\n",
            "Iteration:  30\n",
            "[6 1 2 ... 2 8 8] [9 3 6 ... 1 5 5]\n",
            "0.3315365853658537\n",
            "Iteration:  40\n",
            "[6 4 2 ... 5 8 8] [9 3 6 ... 1 5 5]\n",
            "0.3888780487804878\n",
            "Iteration:  50\n",
            "[6 4 2 ... 5 9 8] [9 3 6 ... 1 5 5]\n",
            "0.4318780487804878\n",
            "Iteration:  60\n",
            "[6 7 2 ... 5 8 8] [9 3 6 ... 1 5 5]\n",
            "0.48009756097560974\n",
            "Iteration:  70\n",
            "[6 7 2 ... 1 8 8] [9 3 6 ... 1 5 5]\n",
            "0.5168048780487805\n",
            "Iteration:  80\n",
            "[6 7 2 ... 1 8 8] [9 3 6 ... 1 5 5]\n",
            "0.5425853658536586\n",
            "Iteration:  90\n",
            "[6 7 2 ... 1 8 8] [9 3 6 ... 1 5 5]\n",
            "0.566170731707317\n",
            "Iteration:  100\n",
            "[4 7 2 ... 1 8 8] [9 3 6 ... 1 5 5]\n",
            "0.5844878048780487\n",
            "Iteration:  110\n",
            "[4 7 2 ... 1 8 5] [9 3 6 ... 1 5 5]\n",
            "0.6032682926829268\n",
            "Iteration:  120\n",
            "[4 7 2 ... 1 8 5] [9 3 6 ... 1 5 5]\n",
            "0.6194634146341463\n",
            "Iteration:  130\n",
            "[4 7 2 ... 1 5 5] [9 3 6 ... 1 5 5]\n",
            "0.6351219512195122\n",
            "Iteration:  140\n",
            "[4 7 2 ... 1 5 5] [9 3 6 ... 1 5 5]\n",
            "0.6493170731707317\n",
            "Iteration:  150\n",
            "[4 7 2 ... 1 5 5] [9 3 6 ... 1 5 5]\n",
            "0.6633658536585366\n",
            "Iteration:  160\n",
            "[4 4 2 ... 1 5 5] [9 3 6 ... 1 5 5]\n",
            "0.6765365853658537\n",
            "Iteration:  170\n",
            "[4 4 2 ... 1 5 5] [9 3 6 ... 1 5 5]\n",
            "0.688170731707317\n",
            "Iteration:  180\n",
            "[4 4 2 ... 1 5 5] [9 3 6 ... 1 5 5]\n",
            "0.6988292682926829\n",
            "Iteration:  190\n",
            "[4 4 2 ... 1 5 5] [9 3 6 ... 1 5 5]\n",
            "0.7086341463414634\n",
            "Iteration:  200\n",
            "[4 4 2 ... 1 5 5] [9 3 6 ... 1 5 5]\n",
            "0.7172439024390244\n",
            "Iteration:  210\n",
            "[4 4 2 ... 1 5 5] [9 3 6 ... 1 5 5]\n",
            "0.725390243902439\n",
            "Iteration:  220\n",
            "[4 9 2 ... 1 5 5] [9 3 6 ... 1 5 5]\n",
            "0.732780487804878\n",
            "Iteration:  230\n",
            "[4 9 2 ... 1 5 5] [9 3 6 ... 1 5 5]\n",
            "0.7400487804878049\n",
            "Iteration:  240\n",
            "[4 9 2 ... 1 5 5] [9 3 6 ... 1 5 5]\n",
            "0.7457073170731707\n",
            "Iteration:  250\n",
            "[4 9 2 ... 1 5 5] [9 3 6 ... 1 5 5]\n",
            "0.7524390243902439\n",
            "Iteration:  260\n",
            "[4 9 2 ... 1 5 5] [9 3 6 ... 1 5 5]\n",
            "0.7585609756097561\n",
            "Iteration:  270\n",
            "[4 9 2 ... 1 5 5] [9 3 6 ... 1 5 5]\n",
            "0.7634634146341464\n",
            "Iteration:  280\n",
            "[4 9 2 ... 1 5 5] [9 3 6 ... 1 5 5]\n",
            "0.7688292682926829\n",
            "Iteration:  290\n",
            "[4 9 2 ... 1 5 5] [9 3 6 ... 1 5 5]\n",
            "0.7738536585365854\n",
            "Iteration:  300\n",
            "[4 9 2 ... 1 5 5] [9 3 6 ... 1 5 5]\n",
            "0.7780243902439025\n",
            "Iteration:  310\n",
            "[4 9 2 ... 1 5 5] [9 3 6 ... 1 5 5]\n",
            "0.7826585365853659\n",
            "Iteration:  320\n",
            "[4 9 2 ... 1 5 5] [9 3 6 ... 1 5 5]\n",
            "0.7864634146341464\n",
            "Iteration:  330\n",
            "[4 9 2 ... 1 5 5] [9 3 6 ... 1 5 5]\n",
            "0.79\n",
            "Iteration:  340\n",
            "[4 9 2 ... 1 5 5] [9 3 6 ... 1 5 5]\n",
            "0.7936829268292683\n",
            "Iteration:  350\n",
            "[4 9 6 ... 1 5 5] [9 3 6 ... 1 5 5]\n",
            "0.7968536585365854\n",
            "Iteration:  360\n",
            "[4 9 6 ... 1 5 5] [9 3 6 ... 1 5 5]\n",
            "0.7997317073170732\n",
            "Iteration:  370\n",
            "[4 9 6 ... 1 5 5] [9 3 6 ... 1 5 5]\n",
            "0.8028536585365854\n",
            "Iteration:  380\n",
            "[4 9 6 ... 1 5 5] [9 3 6 ... 1 5 5]\n",
            "0.8057560975609757\n",
            "Iteration:  390\n",
            "[4 9 6 ... 1 5 5] [9 3 6 ... 1 5 5]\n",
            "0.8087317073170732\n",
            "Iteration:  400\n",
            "[4 9 6 ... 1 5 5] [9 3 6 ... 1 5 5]\n",
            "0.8115365853658537\n",
            "Iteration:  410\n",
            "[4 9 6 ... 1 5 5] [9 3 6 ... 1 5 5]\n",
            "0.8142682926829268\n",
            "Iteration:  420\n",
            "[4 9 6 ... 1 5 5] [9 3 6 ... 1 5 5]\n",
            "0.8166829268292682\n",
            "Iteration:  430\n",
            "[4 9 6 ... 1 5 5] [9 3 6 ... 1 5 5]\n",
            "0.8189756097560975\n",
            "Iteration:  440\n",
            "[4 9 6 ... 1 5 5] [9 3 6 ... 1 5 5]\n",
            "0.8210487804878048\n",
            "Iteration:  450\n",
            "[4 9 6 ... 1 5 5] [9 3 6 ... 1 5 5]\n",
            "0.8231463414634146\n",
            "Iteration:  460\n",
            "[4 9 6 ... 1 5 5] [9 3 6 ... 1 5 5]\n",
            "0.8246097560975609\n",
            "Iteration:  470\n",
            "[4 9 6 ... 1 5 5] [9 3 6 ... 1 5 5]\n",
            "0.8267560975609756\n",
            "Iteration:  480\n",
            "[4 9 6 ... 1 5 5] [9 3 6 ... 1 5 5]\n",
            "0.8286341463414634\n",
            "Iteration:  490\n",
            "[4 9 6 ... 1 5 5] [9 3 6 ... 1 5 5]\n",
            "0.8306585365853658\n"
          ]
        }
      ]
    },
    {
      "cell_type": "code",
      "source": [
        "  def make_predictions(X, W1, b1, W2, b2):\n",
        "    _, _, _, A2 = forward_prop(W1, b1, W2, b2, X)\n",
        "    predictions = get_predictions(A2)\n",
        "    return predictions\n",
        "\n",
        "def test_prediction(index, W1, b1, W2, b2):\n",
        "    current_image = X_train[:, index, None]\n",
        "    prediction = make_predictions(X_train[:, index, None], W1, b1, W2, b2)\n",
        "    label = Y_train[index]\n",
        "    print(\"Prediction: \", prediction)\n",
        "    print(\"Label: \", label)\n",
        "\n",
        "    current_image = current_image.reshape((28, 28)) * 255\n",
        "    plt.gray()\n",
        "    plt.imshow(current_image, interpolation='nearest')\n",
        "    plt.show()"
      ],
      "metadata": {
        "id": "d8oCWP8p123u"
      },
      "execution_count": null,
      "outputs": []
    },
    {
      "cell_type": "code",
      "source": [
        "test_prediction(0, W1, b1, W2, b2)\n",
        "test_prediction(1, W1, b1, W2, b2)\n",
        "test_prediction(2, W1, b1, W2, b2)\n",
        "test_prediction(3, W1, b1, W2, b2)"
      ],
      "metadata": {
        "colab": {
          "base_uri": "https://localhost:8080/",
          "height": 1000
        },
        "id": "j1BxELGw19FG",
        "outputId": "0afd6378-e063-4368-d968-ba2cc7e00760"
      },
      "execution_count": null,
      "outputs": [
        {
          "output_type": "stream",
          "name": "stdout",
          "text": [
            "Prediction:  [4]\n",
            "Label:  9\n"
          ]
        },
        {
          "output_type": "display_data",
          "data": {
            "text/plain": [
              "<Figure size 640x480 with 1 Axes>"
            ],
            "image/png": "[encoded data removed]"
          },
          "metadata": {}
        },
        {
          "output_type": "stream",
          "name": "stdout",
          "text": [
            "Prediction:  [9]\n",
            "Label:  3\n"
          ]
        },
        {
          "output_type": "display_data",
          "data": {
            "text/plain": [
              "<Figure size 640x480 with 1 Axes>"
            ],
            "image/png": "[encoded data removed]"
          },
          "metadata": {}
        },
        {
          "output_type": "stream",
          "name": "stdout",
          "text": [
            "Prediction:  [6]\n",
            "Label:  6\n"
          ]
        },
        {
          "output_type": "display_data",
          "data": {
            "text/plain": [
              "<Figure size 640x480 with 1 Axes>"
            ],
            "image/png": "[encoded data removed]"
          },
          "metadata": {}
        },
        {
          "output_type": "stream",
          "name": "stdout",
          "text": [
            "Prediction:  [2]\n",
            "Label:  2\n"
          ]
        },
        {
          "output_type": "display_data",
          "data": {
            "text/plain": [
              "<Figure size 640x480 with 1 Axes>"
            ],
            "image/png": "[encoded data removed]"
          },
          "metadata": {}
        }
      ]
    },
    {
      "cell_type": "code",
      "source": [
        "dev_predictions = make_predictions(X_dev, W1, b1, W2, b2)\n",
        "get_accuracy(dev_predictions, Y_dev)"
      ],
      "metadata": {
        "colab": {
          "base_uri": "https://localhost:8080/"
        },
        "id": "Bra_CLOV2DGI",
        "outputId": "77ec3410-609d-43e9-8749-479707733011"
      },
      "execution_count": null,
      "outputs": [
        {
          "output_type": "stream",
          "name": "stdout",
          "text": [
            "[6 0 1 2 5 3 2 4 0 9 1 4 0 9 6 2 8 2 8 9 9 6 3 0 4 8 5 6 3 3 1 8 4 0 2 5 1\n",
            " 0 6 8 1 0 3 1 8 9 6 2 4 1 3 1 6 4 3 9 7 8 0 1 3 6 6 2 2 4 2 3 2 5 1 0 8 0\n",
            " 7 0 7 1 1 8 4 5 1 5 7 0 9 5 8 0 6 0 5 5 6 9 2 9 5 7 3 6 1 3 1 5 4 6 6 1 8\n",
            " 0 5 9 2 4 3 1 9 5 4 6 6 6 4 3 9 1 9 7 1 7 2 2 6 5 9 2 7 4 2 8 3 9 7 7 0 0\n",
            " 4 2 4 0 6 7 1 8 7 3 2 3 1 3 8 9 9 9 4 4 3 9 9 0 1 7 7 8 3 9 0 3 7 1 5 5 1\n",
            " 4 6 1 8 2 8 7 6 8 2 6 6 4 5 1 5 0 7 3 9 9 6 2 3 4 4 3 2 0 6 5 5 8 3 1 8 3\n",
            " 0 2 8 0 2 7 7 1 4 4 3 9 0 3 3 9 9 5 6 9 7 4 8 2 0 8 2 6 6 3 8 9 8 2 8 5 2\n",
            " 0 9 0 7 1 2 6 8 2 2 5 0 2 8 1 9 4 8 7 5 1 7 4 4 1 4 1 7 1 5 0 3 9 9 0 5 7\n",
            " 5 2 8 5 4 1 6 0 0 2 4 2 8 1 3 2 9 3 1 9 4 5 4 8 1 7 1 5 7 6 3 2 5 8 7 7 3\n",
            " 3 7 7 3 5 8 6 5 9 9 9 4 7 4 3 0 8 6 2 8 8 0 1 1 2 7 7 9 1 0 1 0 0 7 1 0 5\n",
            " 3 1 1 8 0 9 0 6 4 3 1 0 7 5 4 8 2 6 9 4 8 0 7 3 8 1 3 0 7 9 4 2 4 7 1 8 4\n",
            " 1 0 2 8 8 2 3 0 8 9 3 7 0 1 7 3 8 3 6 9 7 4 1 2 4 9 4 4 7 2 6 5 9 3 1 9 9\n",
            " 8 6 7 8 1 0 5 5 0 7 5 4 5 0 1 3 9 1 4 7 4 0 2 1 6 2 2 7 1 5 4 8 1 0 8 5 0\n",
            " 9 8 8 3 3 8 0 9 1 0 1 2 1 8 2 7 3 1 1 3 7 0 9 1 7 9 5 4 7 7 1 7 8 1 5 7 1\n",
            " 4 3 3 1 6 7 5 7 2 8 3 3 4 2 0 0 3 6 6 6 9 5 1 5 3 6 1 8 1 2 6 7 7 1 8 3 0\n",
            " 1 8 9 8 3 1 8 6 2 4 0 0 5 6 1 3 7 0 0 7 7 7 8 1 7 5 9 6 9 2 7 1 8 7 1 3 5\n",
            " 1 3 2 9 3 4 5 6 8 0 1 5 2 3 9 2 7 6 9 5 1 6 8 1 9 1 5 9 3 4 6 6 4 9 9 0 5\n",
            " 0 3 0 7 7 2 3 9 4 1 0 6 5 8 0 2 2 2 4 2 0 2 1 1 3 0 4 4 7 1 2 0 6 1 1 8 9\n",
            " 1 1 2 4 3 4 6 8 1 6 3 8 8 7 6 0 2 7 3 0 0 5 5 6 7 4 2 7 9 4 0 9 0 7 4 6 2\n",
            " 1 1 3 4 4 6 7 4 1 8 2 9 2 3 6 9 3 6 9 2 2 7 8 0 0 2 3 2 8 5 6 7 0 4 6 2 7\n",
            " 8 9 3 3 9 4 0 0 6 1 1 5 2 0 0 0 7 3 8 9 4 1 4 1 3 3 6 0 9 4 4 5 8 0 8 9 1\n",
            " 4 9 5 4 0 4 8 6 1 1 7 1 2 9 3 4 0 8 7 4 1 9 1 8 4 3 8 3 0 3 4 7 6 1 9 6 5\n",
            " 1 2 7 1 6 2 1 8 9 3 5 1 1 9 6 3 2 9 4 1 1 8 1 0 0 8 9 4 9 5 7 2 8 3 8 1 3\n",
            " 1 9 9 5 5 3 4 5 7 7 1 8 1 6 3 9 8 3 5 0 1 0 7 2 4 2 4 7 0 0 0 9 8 5 4 4 7\n",
            " 9 9 9 6 3 0 3 0 9 7 1 4 8 1 8 3 7 8 7 2 6 1 1 1 6 5 2 3 1 0 3 2 5 5 8 0 3\n",
            " 9 4 3 7 1 1 5 7 1 8 8 5 4 8 9 1 9 1 4 9 7 1 1 8 2 6 7 9 1 1 5 3 4 5 6 1 6\n",
            " 2 9 7 9 8 0 5 3 1 0 7 8 9 8 5 9 4 9 7 2 8 8 6 2 0 5 7 1 0 6 8 4 9 7 7 4 4\n",
            " 1] [6 0 1 2 5 3 2 4 0 9 1 4 0 9 6 2 8 2 5 9 9 6 3 0 4 8 5 6 3 3 1 8 9 0 2 3 1\n",
            " 0 6 8 1 0 9 3 8 9 6 4 4 1 3 1 6 9 3 9 7 8 0 1 5 6 2 2 2 4 8 3 2 5 1 0 8 6\n",
            " 7 0 7 1 1 8 4 5 1 5 7 0 9 3 9 0 2 0 5 5 6 9 2 9 5 7 3 6 2 3 1 5 4 6 6 1 8\n",
            " 0 5 9 2 9 3 1 9 5 4 6 2 6 4 3 4 1 9 7 8 9 2 2 2 3 9 2 7 4 2 8 3 9 9 7 0 5\n",
            " 4 2 4 0 2 4 1 8 7 3 1 3 1 3 8 9 9 9 4 4 3 9 9 0 1 7 7 9 2 7 0 3 7 1 5 5 1\n",
            " 4 6 1 8 2 8 7 5 8 2 6 6 4 5 1 0 0 7 3 9 9 6 3 8 4 9 3 2 0 6 5 5 8 5 1 8 3\n",
            " 0 2 8 0 2 7 5 1 4 4 3 9 0 3 8 9 9 5 6 9 7 4 8 2 0 8 2 6 6 3 8 9 5 2 8 1 2\n",
            " 6 9 0 7 8 2 6 8 2 2 5 0 2 8 1 9 4 8 7 5 1 7 4 2 1 4 1 7 1 3 0 3 9 9 0 5 7\n",
            " 5 2 8 5 4 1 6 0 0 2 4 2 8 1 3 2 9 3 1 9 4 5 4 8 1 7 1 9 9 6 3 2 5 6 7 7 9\n",
            " 3 7 7 3 5 8 6 5 9 9 9 4 7 4 3 0 8 6 2 8 8 0 1 1 3 7 7 9 1 0 3 0 0 7 1 5 5\n",
            " 8 1 1 8 0 9 2 6 4 8 1 0 7 3 9 8 2 6 9 4 8 0 7 3 8 1 3 0 7 9 9 2 4 7 1 8 4\n",
            " 1 0 2 8 8 2 3 0 7 9 3 7 0 1 7 3 8 9 6 9 7 4 1 2 4 9 9 4 7 2 6 5 9 3 1 9 7\n",
            " 8 6 7 8 1 0 5 5 0 7 5 4 5 0 1 3 9 1 4 7 4 0 2 8 6 8 2 7 3 5 4 8 1 0 8 5 0\n",
            " 9 3 8 8 3 6 0 9 1 2 1 2 1 8 2 7 3 1 1 3 7 0 9 1 2 9 8 0 7 7 1 9 8 1 5 7 1\n",
            " 4 3 3 1 6 7 5 9 2 8 3 3 4 2 0 0 9 4 6 6 9 5 1 5 3 6 1 8 1 2 6 7 9 1 8 9 0\n",
            " 9 5 9 8 3 7 8 6 2 4 0 0 5 6 1 3 7 0 0 7 7 7 8 5 7 5 8 6 9 2 7 1 8 9 1 8 5\n",
            " 1 3 2 9 3 4 5 6 8 0 1 5 2 3 3 2 7 6 9 5 1 6 8 1 9 1 5 9 3 9 6 6 4 8 4 0 5\n",
            " 0 4 0 7 7 2 8 4 4 1 0 6 5 8 0 2 2 2 4 2 0 7 1 1 3 0 4 9 7 1 2 0 6 1 1 8 9\n",
            " 1 1 2 5 3 9 6 3 1 6 3 8 8 7 6 0 2 7 3 0 0 5 5 2 7 4 2 3 9 4 0 9 0 7 4 6 2\n",
            " 1 1 5 4 4 6 7 4 1 8 2 5 2 3 6 9 3 6 9 2 2 7 8 0 0 8 3 2 8 5 6 7 5 9 6 2 7\n",
            " 3 9 3 2 9 4 0 5 6 1 1 3 2 0 0 0 7 8 8 4 4 1 4 1 5 3 6 0 9 9 4 5 8 0 8 9 1\n",
            " 4 9 5 4 5 4 8 6 1 1 7 1 2 8 9 4 0 2 7 4 1 9 1 8 4 3 8 3 0 3 4 9 2 1 7 6 5\n",
            " 1 2 7 1 4 2 1 8 9 3 5 2 1 9 5 3 2 7 4 1 1 8 1 0 0 8 4 4 9 5 7 2 8 3 4 1 3\n",
            " 1 3 9 5 5 3 4 5 7 7 1 0 2 6 3 9 8 3 5 0 1 0 7 2 4 2 4 7 8 0 0 4 8 5 6 6 7\n",
            " 9 9 8 6 3 0 3 0 7 7 1 8 2 1 8 5 7 8 7 2 2 1 5 1 6 0 2 3 1 0 3 2 5 5 8 0 3\n",
            " 9 9 3 7 5 1 5 7 1 8 7 5 9 5 9 1 9 1 4 9 7 1 1 8 2 6 7 9 1 1 0 3 7 5 6 1 6\n",
            " 2 9 3 9 8 0 5 3 8 0 7 8 9 8 5 9 4 9 7 2 8 8 6 2 0 5 7 1 0 6 8 4 9 7 7 4 4\n",
            " 1]\n"
          ]
        },
        {
          "output_type": "execute_result",
          "data": {
            "text/plain": [
              "0.852"
            ]
          },
          "metadata": {},
          "execution_count": 13
        }
      ]
    }
  ]
}